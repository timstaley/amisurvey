{
 "cells": [
  {
   "cell_type": "code",
   "execution_count": null,
   "metadata": {
    "collapsed": false
   },
   "outputs": [],
   "source": [
    "%matplotlib inline\n",
    "%load_ext autoreload\n",
    "%autoreload 2\n",
    "from datetime import date, datetime, timedelta, time\n",
    "import pandas as pd\n",
    "import seaborn\n",
    "import matplotlib.pyplot as plt\n",
    "import matplotlib as mpl\n",
    "import numpy as np\n",
    "from pkg_resources import get_distribution"
   ]
  },
  {
   "cell_type": "code",
   "execution_count": null,
   "metadata": {
    "collapsed": true
   },
   "outputs": [],
   "source": [
    "seaborn.set_context('talk')\n",
    "seaborn.set_style('white')"
   ]
  },
  {
   "cell_type": "markdown",
   "metadata": {},
   "source": [
    "Analysis of AMIsurvey results\n",
    "================\n",
    "A data-exploration script accompanying the [AMIsurvey](https://github.com/timstaley/amisurvey) package, \n",
    "described in [Staley & Anderson](https://github.com/timstaley/automated-radio-imaging-paper) (in prep).\n",
    "It is used to explore the metadata recorded during reduction of AMI-LA datasets."
   ]
  },
  {
   "cell_type": "markdown",
   "metadata": {},
   "source": [
    "Code versions used to generate this notebook:"
   ]
  },
  {
   "cell_type": "code",
   "execution_count": null,
   "metadata": {
    "collapsed": false
   },
   "outputs": [],
   "source": [
    "print get_distribution('drive-ami')\n",
    "print get_distribution('drive-casa')\n",
    "print get_distribution('chimenea')\n",
    "print get_distribution('amisurvey')"
   ]
  },
  {
   "cell_type": "code",
   "execution_count": null,
   "metadata": {
    "collapsed": false
   },
   "outputs": [],
   "source": [
    "import json\n",
    "from collections import OrderedDict\n",
    "import chimenea\n",
    "from chimenea.obsinfo import ObsInfo"
   ]
  },
  {
   "cell_type": "code",
   "execution_count": null,
   "metadata": {
    "collapsed": false
   },
   "outputs": [],
   "source": [
    "datafile = \"./good_files_reduced3_processed.json\""
   ]
  },
  {
   "cell_type": "code",
   "execution_count": null,
   "metadata": {
    "collapsed": false
   },
   "outputs": [],
   "source": [
    "with open(datafile) as f:\n",
    "        rawdata=json.load(f, cls=ObsInfo.Decoder)\n"
   ]
  },
  {
   "cell_type": "code",
   "execution_count": null,
   "metadata": {
    "collapsed": false
   },
   "outputs": [],
   "source": [
    "len(rawdata)"
   ]
  },
  {
   "cell_type": "code",
   "execution_count": null,
   "metadata": {
    "collapsed": false
   },
   "outputs": [],
   "source": [
    "rawdata_dict={obs.name: obs for obs in rawdata}"
   ]
  },
  {
   "cell_type": "code",
   "execution_count": null,
   "metadata": {
    "collapsed": false
   },
   "outputs": [],
   "source": [
    "# testobs=rawdata[1]\n",
    "# print testobs.rms_delta\n",
    "# # testobs.name\n",
    "# testobs.maps_masked.ms.image\n",
    "# testsrcs = testobs.meta['masked_sources']\n",
    "# testsrcs\n",
    "# max([s[4] for s in testsrcs])"
   ]
  },
  {
   "cell_type": "markdown",
   "metadata": {},
   "source": [
    "Build a set of records by pulling key bits of data from the reduction metadata JSON-dump:"
   ]
  },
  {
   "cell_type": "code",
   "execution_count": null,
   "metadata": {
    "collapsed": false
   },
   "outputs": [],
   "source": [
    "def pull_metrics(obsinf):\n",
    "    brightest=0.\n",
    "    if 'masked_sources' in obsinf.meta:\n",
    "        sources = obsinf.meta['masked_sources']\n",
    "        brightest = max([src[4] for src in sources])\n",
    "        \n",
    "    \n",
    "    record = dict(\n",
    "            group = obsinf.group,\n",
    "            rms_dirty=obsinf.rms_dirty,\n",
    "         rms_dirty_naive=obsinf.rms_dirty_naive,\n",
    "         rms_best=obsinf.rms_best,\n",
    "         rms_delta=obsinf.rms_delta,\n",
    "         n_rms_estimates=len(obsinf.rms_history),\n",
    "         masked_clean = (obsinf.maps_masked.ms.image is not None),\n",
    "         flagged=obsinf.meta['flagged_final_percent'],\n",
    "         brightest_mjy=brightest*1000.,\n",
    "         duration = obsinf.meta['duration_hrs']\n",
    "         )\n",
    "    if record['masked_clean']:\n",
    "        record['rms_single_clean']=obsinf.rms_history[1]\n",
    "    return (obsinf.name, record)\n",
    "    "
   ]
  },
  {
   "cell_type": "code",
   "execution_count": null,
   "metadata": {
    "collapsed": false
   },
   "outputs": [],
   "source": [
    "mets = [pull_metrics(obs) for obs in rawdata]\n",
    "idx, data = zip(*mets)"
   ]
  },
  {
   "cell_type": "markdown",
   "metadata": {},
   "source": [
    "Load the records into a [pandas](http://pandas.pydata.org/) dataframe, for convenience:"
   ]
  },
  {
   "cell_type": "code",
   "execution_count": null,
   "metadata": {
    "collapsed": false
   },
   "outputs": [],
   "source": [
    "all_obs=pd.DataFrame.from_records(index=idx, data=data)\n",
    "all_obs.head()"
   ]
  },
  {
   "cell_type": "markdown",
   "metadata": {},
   "source": [
    "Filter out GRB110328A, as it's part of a long-term monitoring program, not our rapid-response mode."
   ]
  },
  {
   "cell_type": "code",
   "execution_count": null,
   "metadata": {
    "collapsed": true
   },
   "outputs": [],
   "source": [
    "all_obs = all_obs.loc[all_obs.group!='GRB110328A']"
   ]
  },
  {
   "cell_type": "markdown",
   "metadata": {},
   "source": [
    "How much data are we dealing with?"
   ]
  },
  {
   "cell_type": "code",
   "execution_count": null,
   "metadata": {
    "collapsed": false
   },
   "outputs": [],
   "source": [
    "len(all_obs)"
   ]
  },
  {
   "cell_type": "code",
   "execution_count": null,
   "metadata": {
    "collapsed": false
   },
   "outputs": [],
   "source": [
    "print all_obs.duration.sum()/24, \"days\""
   ]
  },
  {
   "cell_type": "markdown",
   "metadata": {},
   "source": [
    "How many targets / fields of view?"
   ]
  },
  {
   "cell_type": "code",
   "execution_count": null,
   "metadata": {
    "collapsed": false
   },
   "outputs": [],
   "source": [
    "len(all_obs.group.unique())"
   ]
  },
  {
   "cell_type": "markdown",
   "metadata": {},
   "source": [
    "Typical observation length?"
   ]
  },
  {
   "cell_type": "code",
   "execution_count": null,
   "metadata": {
    "collapsed": false
   },
   "outputs": [],
   "source": [
    "all_obs.duration.mean(), all_obs.duration.median()"
   ]
  },
  {
   "cell_type": "code",
   "execution_count": null,
   "metadata": {
    "collapsed": false
   },
   "outputs": [],
   "source": [
    "all_obs.duration.hist(bins=20)\n",
    "ax=plt.gca()\n",
    "ax.set_title('Observation durations')\n",
    "ax.set_xlabel('Integration time [hours]')"
   ]
  },
  {
   "cell_type": "markdown",
   "metadata": {},
   "source": [
    "A quick comparison of RMS estimation methods, out of curiosity:"
   ]
  },
  {
   "cell_type": "code",
   "execution_count": null,
   "metadata": {
    "collapsed": false
   },
   "outputs": [],
   "source": [
    "all_obs['sd_bias']=all_obs.rms_dirty_naive / all_obs.rms_dirty\n",
    "all_obs.hist('sd_bias')\n",
    "ax=plt.gca()\n",
    "ax.set_title('Comparison of naive and debiased std.dev. estimators, as applied to dirty maps')\n",
    "ax.set_xlabel('Naive s.d. / debiased s.d.')"
   ]
  },
  {
   "cell_type": "code",
   "execution_count": null,
   "metadata": {
    "collapsed": false
   },
   "outputs": [],
   "source": [
    "# all_obs[all_obs.sd_bias<0.9]\n",
    "# all_obs[all_obs.sd_bias<1.1]"
   ]
  },
  {
   "cell_type": "markdown",
   "metadata": {},
   "source": [
    "OK: find the observations which had a steady source in the deep image, used to create a Clean-mask:"
   ]
  },
  {
   "cell_type": "code",
   "execution_count": null,
   "metadata": {
    "collapsed": false
   },
   "outputs": [],
   "source": [
    "print all_obs.shape\n",
    "masked_obs = all_obs.loc[all_obs.masked_clean].copy()"
   ]
  },
  {
   "cell_type": "code",
   "execution_count": null,
   "metadata": {
    "collapsed": false
   },
   "outputs": [],
   "source": [
    "print len(masked_obs), \"observations from \"\n",
    "print len(masked_obs.group.unique()), \"fields containing a source in the deep image.\""
   ]
  },
  {
   "cell_type": "markdown",
   "metadata": {},
   "source": [
    "We always obtain one RMS estimate initially from the dirty map. \n",
    "After that, for masked re-cleans, we store an extra RMS estimate after each cycle. (We always perform at least one masked-clean cycle). So, we can check the typical number of clean-cycles as follows:"
   ]
  },
  {
   "cell_type": "code",
   "execution_count": null,
   "metadata": {
    "collapsed": false
   },
   "outputs": [],
   "source": [
    "n_rms_est = masked_obs.n_rms_estimates.value_counts()\n",
    "n_masked_clean_cyles = pd.Series(index = n_rms_est.index -1 , data = n_rms_est.values)\n",
    "\n",
    "print \"N recleans:\"\n",
    "print n_masked_clean_cyles"
   ]
  },
  {
   "cell_type": "code",
   "execution_count": null,
   "metadata": {
    "collapsed": false
   },
   "outputs": [],
   "source": [
    "n_masked_clean_cyles=n_masked_clean_cyles.sort_index()\n",
    "ax = n_masked_clean_cyles.plot(kind='bar')\n",
    "fig = ax.get_figure()\n",
    "locs, labels = plt.xticks()\n",
    "_ = plt.setp(labels, rotation=0)\n",
    "# fig.autofmt_xdate()\n",
    "ax.set_title('Number of masked re-clean cycles until convergence')\n",
    "ax.set_xlabel('Number of masked re-clean cycles')\n",
    "ax.set_ylabel('Number of observations')"
   ]
  },
  {
   "cell_type": "markdown",
   "metadata": {},
   "source": [
    "What are the final re-clean iteration RMS decrease values like?"
   ]
  },
  {
   "cell_type": "code",
   "execution_count": null,
   "metadata": {
    "collapsed": false
   },
   "outputs": [],
   "source": [
    "masked_obs.hist(column='rms_delta')\n",
    "ax = plt.gca()\n",
    "ax.set_title('RMS decrease from final re-clean iteration')\n",
    "ax.set_xlabel('RMS proportional decrease')\n",
    "ax.set_ylabel('Number of observations')"
   ]
  },
  {
   "cell_type": "markdown",
   "metadata": {},
   "source": [
    "And how about for those observations which took 3 re-clean iterations?"
   ]
  },
  {
   "cell_type": "code",
   "execution_count": null,
   "metadata": {
    "collapsed": false,
    "scrolled": false
   },
   "outputs": [],
   "source": [
    "masked_obs[masked_obs.n_rms_estimates==4].hist(column='rms_delta')\n",
    "ax = plt.gca()\n",
    "ax.set_title('RMS decrease from final re-clean iteration, where 3 iterations used')\n",
    "ax.set_xlabel('RMS proportional decrease')\n",
    "ax.set_ylabel('Number of observations')"
   ]
  },
  {
   "cell_type": "markdown",
   "metadata": {},
   "source": [
    "It appears that only one observation in 943 fails our 're-clean convergence' criteria after 3 cycles. Inspection of the concatenated image suggests extended emission / blended sources in this field (SN2014C):"
   ]
  },
  {
   "cell_type": "code",
   "execution_count": null,
   "metadata": {
    "collapsed": false
   },
   "outputs": [],
   "source": [
    "masked_obs.loc[masked_obs.rms_delta>0.05]"
   ]
  },
  {
   "cell_type": "markdown",
   "metadata": {},
   "source": [
    "We can also plot the total proportional decrease in RMS, comparing the RMS estimated from the dirty map and the final RMS value. For fields with only faint sources, we expect this to be close to 1."
   ]
  },
  {
   "cell_type": "code",
   "execution_count": null,
   "metadata": {
    "collapsed": false
   },
   "outputs": [],
   "source": [
    "masked_obs['rms_drop_total']=masked_obs['rms_best']/masked_obs['rms_dirty']\n",
    "masked_obs.hist('rms_drop_total')\n",
    "ax=plt.gca()\n",
    "ax.set_title('Total proportional RMS decrease (compared to initial dirty-map estimate)')\n",
    "ax.set_xlabel('Total prop. RMS decrease')\n",
    "ax.set_ylabel('Number of observations')"
   ]
  },
  {
   "cell_type": "code",
   "execution_count": null,
   "metadata": {
    "collapsed": false
   },
   "outputs": [],
   "source": [
    "# masked_obs.loc[masked_obs.rms_drop_total <0.5]"
   ]
  },
  {
   "cell_type": "markdown",
   "metadata": {},
   "source": [
    "We can also compare the iterative 're-Clean' process against a single Clean operation (both using a Clean mask)."
   ]
  },
  {
   "cell_type": "code",
   "execution_count": null,
   "metadata": {
    "collapsed": false
   },
   "outputs": [],
   "source": [
    "masked_obs['rms_drop_single']=masked_obs['rms_best']/masked_obs['rms_single_clean']\n",
    "masked_obs.hist('rms_drop_single')\n",
    "ax=plt.gca()\n",
    "ax.set_title('Proportional RMS decrease due to re-Clean (compared to single Clean operation)')\n",
    "ax.set_xlabel('Prop. RMS decrease')\n",
    "ax.set_ylabel('Number of observations')"
   ]
  },
  {
   "cell_type": "code",
   "execution_count": null,
   "metadata": {
    "collapsed": false
   },
   "outputs": [],
   "source": [
    "# masked_obs[masked_obs.rms_drop_single<0.9].sort('duration')"
   ]
  },
  {
   "cell_type": "markdown",
   "metadata": {},
   "source": [
    "Even for those observations which undergo a fairly extreme RMS decrease, the RMS seems to have converged pretty well by the third re-clean cycle:"
   ]
  },
  {
   "cell_type": "code",
   "execution_count": null,
   "metadata": {
    "collapsed": false
   },
   "outputs": [],
   "source": [
    "for key in (masked_obs.loc[masked_obs['rms_drop_total']<0.4]).index:\n",
    "    history = np.array(rawdata_dict[key].rms_history)\n",
    "    plt.plot(history/history[-1])\n",
    "# plt.ylim(.99,1.5)\n",
    "ax = plt.gca()\n",
    "ax.set_title('RMS history for observations with rms_drop<0.4')\n",
    "ax.set_xlabel('Re-clean cycle')\n",
    "ax.set_ylabel('RMS normalised by final RMS value')"
   ]
  },
  {
   "cell_type": "markdown",
   "metadata": {},
   "source": [
    "Here's the same plot, zoomed in a bit:"
   ]
  },
  {
   "cell_type": "code",
   "execution_count": null,
   "metadata": {
    "collapsed": false
   },
   "outputs": [],
   "source": [
    "for key in (masked_obs.loc[masked_obs['rms_drop_total']<0.4]).index:\n",
    "    history = np.array(rawdata_dict[key].rms_history)\n",
    "    plt.plot(history/history[-1])\n",
    "ax = plt.gca()\n",
    "ax.set_title('RMS history for observations with rms_drop<0.4')\n",
    "ax.set_xlabel('Re-clean cycle')\n",
    "ax.set_ylabel('RMS normalised by final RMS value')\n",
    "plt.xlim(0.5,3)\n",
    "plt.ylim(.99,1.5)"
   ]
  },
  {
   "cell_type": "markdown",
   "metadata": {},
   "source": [
    "A question: Does flagging percentage have a noticeable relation to severity of RMS decrease?\n",
    "First, let's see the all-obs histogram of flagging percentages:"
   ]
  },
  {
   "cell_type": "code",
   "execution_count": null,
   "metadata": {
    "collapsed": false
   },
   "outputs": [],
   "source": [
    "masked_obs.hist('flagged')\n",
    "ax = plt.gca()\n",
    "ax.set_title('Histogram of flagging percentages for all masked-clean observations')"
   ]
  },
  {
   "cell_type": "markdown",
   "metadata": {},
   "source": [
    "Now, let's compare with the flagging histogram for sources which undergo RMS reduction by a factor of 0.4, or even less:"
   ]
  },
  {
   "cell_type": "code",
   "execution_count": null,
   "metadata": {
    "collapsed": false
   },
   "outputs": [],
   "source": [
    "masked_obs.loc[masked_obs.rms_drop_total < 0.4].hist('flagged')\n",
    "ax = plt.gca()\n",
    "ax.set_title('Histogram of flagging percentages for masked-clean obs. which undergo extreme RMS reduction')"
   ]
  },
  {
   "cell_type": "markdown",
   "metadata": {},
   "source": [
    "Result: Flagging does not appear to have a pronounced effect on RMS estimation, flagging distribution is similar for those obs which see more extreme RMS reduction. If anything, observations with low levels of flagging are likely to see more reduction in estimated RMS.\n",
    "\n",
    "The flagged / rms_drop scatterplot seems to tell the same story:"
   ]
  },
  {
   "cell_type": "code",
   "execution_count": null,
   "metadata": {
    "collapsed": false
   },
   "outputs": [],
   "source": [
    "masked_obs.plot(kind='scatter', x='flagged', y='rms_drop_total')"
   ]
  },
  {
   "cell_type": "markdown",
   "metadata": {},
   "source": [
    "OK: now lets compare RMS decrease against the flux of the brightest source in the field.\n",
    "We expect these to be correlated - a bright source causes sidelobe artefacts in the dirty map which lead to increased (biased) estimates of the underlying RMS. As we iteratively apply masked-cleans to lower RMS thresholds, the sidelobes are cleaned and RMS estimates should bottom out at the intrinsic (unbiased) value.\n",
    "\n",
    "To do this, we plot the total RMS decrease against the flux of the brightest source identified in the concatenated image. We expect fields without any bright sources to undergo minimal RMS decrease. At some point, as the brightest source flux increases, we might expect strange behaviour as the default AMI-LA calibration settings are no longer appropriate.\n",
    "\n",
    "After some data exploration, a number of 'outlier' datasets have been identified in the faint-flux regime, which present more extreme levels of RMS decrease than might be expected given the general trend. Investigation reveals a few reasons for these anomalies:\n",
    "\n",
    "- Very bright off-axis sources which present extended side-lobe artefacts (XTEJ908).\n",
    "- Extended / blended sources (which do not behave well when a point-source clean is applied (PTF09AXC).\n",
    "- A single epoch contains a particularly bright source (SWIFT_554620 / GRB140327A), and so falls lower on the\n",
    "  plot than the rest of the observations in that grouping.     "
   ]
  },
  {
   "cell_type": "code",
   "execution_count": null,
   "metadata": {
    "collapsed": false
   },
   "outputs": [],
   "source": [
    "mobs = masked_obs\n",
    "# mobs = masked_obs[masked_obs.duration < 1.5]\n",
    "# Extended sources in field of XTEJ1098 / (J1908? typo somewhere)\n",
    "filtered = mobs.loc[mobs.group!='XTEJ1098+094']\n",
    "XTEJ1098 = mobs.loc[mobs.group=='XTEJ1098+094']\n",
    "\n",
    "# Bright single-epoch source in SWIFT_554620 dataset (GRB140327A)\n",
    "filtered= filtered[ [not g.startswith('SWIFT_554620') for g in filtered.group] ]\n",
    "SWIFT_554620= mobs[ [g.startswith('SWIFT_554620') for g in mobs.group] ]\n",
    "# Extended / multi-component sources in field of PTF09AXC\n",
    "filtered= filtered[ (filtered.index!= 'PTF09AXC-140525')]\n",
    "PTF09AXC = mobs.loc['PTF09AXC-140525']\n",
    "\n",
    "# filtered= filtered[ (filtered.group != 'GRB110328A')]\n",
    "# GRB110328A = mobs[ (mobs.group == 'GRB110328A')]\n",
    "\n",
    "# short_filtered = filtered"
   ]
  },
  {
   "cell_type": "code",
   "execution_count": null,
   "metadata": {
    "collapsed": true
   },
   "outputs": [],
   "source": [
    "seaborn.set_context('poster')"
   ]
  },
  {
   "cell_type": "code",
   "execution_count": null,
   "metadata": {
    "collapsed": false
   },
   "outputs": [],
   "source": [
    "# flagmax=40\n",
    "# ax = filtered.loc[filtered.flagged<flagmax].plot(kind='scatter', x='brightest', y='rms_drop')\n",
    "# filtered.loc[filtered.flagged>flagmax].plot(kind='scatter', x='brightest', y='rms_drop', \n",
    "#                                        marker='*', s=80, ax=ax, )\n",
    "plt.clf()\n",
    "def makeplot(ax, yquant):\n",
    "    filtered.plot(kind='scatter', x='brightest_mjy', y=yquant, \n",
    "                  label='All other datasets',\n",
    "                 ax=ax)\n",
    "    SWIFT_554620.plot(kind='scatter', x='brightest_mjy', y=yquant, \n",
    "                                            ax=ax, marker='v', s=80, c='g', label='SWIFT_554620')\n",
    "#     GRB110328A.plot(kind='scatter', x='brightest', y=yquant, \n",
    "#                                             ax=ax, marker='^', s=80, c='g', label='GRB110328A')\n",
    "\n",
    "    XTEJ1098.plot(kind='scatter', x='brightest_mjy', y=yquant, \n",
    "                                            ax=ax, marker='d', s=80, c='r', label='XTEJ1908+094')\n",
    "\n",
    "    ax.scatter(PTF09AXC.brightest_mjy, PTF09AXC[yquant],\n",
    "              marker='x', s=80, lw=5, c='r', label='PTF09AXC')\n",
    "    # mdf.loc['PTF09AXC-140525'].plot(kind='scatter', x='brightest', y='rms_drop', \n",
    "    #                                         ax=ax, marker='d', s=80, c='g', label='PTF09AXC-140525')\n",
    "    # plt.legend(loc='upper right')\n",
    "\n",
    "    ax.set_ylabel('Proportional drop in RMS')\n",
    "    ax.set_xlabel('Brightest masked source flux [mJy]')\n",
    "#     frame = plt.legend(loc='lower right')\n",
    "    legend = plt.legend(frameon = 1, loc='lower left', borderpad=1)\n",
    "    \n",
    "    frame = legend.get_frame()\n",
    "    frame.set_color('white')\n",
    "    frame.set_edgecolor('black')\n",
    "\n",
    "# fig, axes = plt.subplots(2)\n",
    "# ax0, ax1 = axes\n",
    "\n",
    "\n",
    "ax0 = plt.gca()\n",
    "yquant= 'rms_drop_total'\n",
    "title = 'Total fractional RMS decrease'\n",
    "\n",
    "\n",
    "# yquant= 'rms_drop_single'\n",
    "# title = 'Fractional RMS decrease from re-Clean'\n",
    "\n",
    "plt.gcf().suptitle(title, size=18)\n",
    "makeplot(ax0, yquant)\n",
    "# filtered.plot(kind='scatter', x='brightest', y=yquant, \n",
    "#                   label='Observations conforming to general trend',ax=ax0)\n",
    "ax0.set_title('Fields with sources < 2mJy')\n",
    "ax0.set_xlim(0,2)\n",
    "\n",
    "# ax0.set_title('Fields with sources < 10mJy')\n",
    "# ax0.set_xlim(0,0.01)\n",
    "# ax0.set_ylim(0.9,1.02)\n",
    "\n",
    "plt.savefig('rms_to_2mjy.pdf')"
   ]
  },
  {
   "cell_type": "code",
   "execution_count": null,
   "metadata": {
    "collapsed": false
   },
   "outputs": [],
   "source": [
    "plt.gcf().suptitle(title, size=18)\n",
    "ax1 = plt.gca()\n",
    "makeplot(ax1, yquant)\n",
    "# ax1.set_title('All observations')\n",
    "\n",
    "ax1.set_title('Fields with sources < 10mJy')\n",
    "ax1.set_xlim(0,10)\n",
    "\n",
    "# ax1.set_ylim(0.9,1.05)\n",
    "plt.savefig('rms_to_10mjy.pdf')"
   ]
  },
  {
   "cell_type": "code",
   "execution_count": null,
   "metadata": {
    "collapsed": false
   },
   "outputs": [],
   "source": [
    "mobs[(0.0009<mobs.brightest_mjy) & (mobs.brightest_mjy<0.01)].sort(yquant).head()\n",
    "# len(mobs[(mobs.brightest>0.01)])\n",
    "# filtered[(filtered.rms_drop<0.7) & (filtered.brightest<0.001)]\n",
    "# filtered[(filtered.rms_drop<0.7) & (filtered.brightest<0.001)]"
   ]
  },
  {
   "cell_type": "code",
   "execution_count": null,
   "metadata": {
    "collapsed": false
   },
   "outputs": [],
   "source": [
    "# rawdata_dict['DEL2013-140703']"
   ]
  },
  {
   "cell_type": "code",
   "execution_count": null,
   "metadata": {
    "collapsed": false
   },
   "outputs": [],
   "source": [
    "# mobs[mobs.group==\"GRB110328A\"].duration.hist()"
   ]
  },
  {
   "cell_type": "code",
   "execution_count": null,
   "metadata": {
    "collapsed": false
   },
   "outputs": [],
   "source": [
    "# filtered[filtered.duration<0.4]"
   ]
  },
  {
   "cell_type": "markdown",
   "metadata": {},
   "source": [
    "We also see more pronounced RMS-decrease when processing shorter observations (due to poor uv-plane coverage)."
   ]
  },
  {
   "cell_type": "code",
   "execution_count": null,
   "metadata": {
    "collapsed": false
   },
   "outputs": [],
   "source": [
    "temp = filtered[ (3.8<filtered.duration) & (filtered.duration<4.2)][filtered.brightest_mjy<10].sort('duration')\n",
    "len(temp)"
   ]
  },
  {
   "cell_type": "code",
   "execution_count": null,
   "metadata": {
    "collapsed": false
   },
   "outputs": [],
   "source": [
    "filtered.plot(kind='scatter', x='duration', y=yquant, \n",
    "                  label='All other datasets',)\n"
   ]
  },
  {
   "cell_type": "code",
   "execution_count": null,
   "metadata": {
    "collapsed": true
   },
   "outputs": [],
   "source": []
  }
 ],
 "metadata": {
  "kernelspec": {
   "display_name": "Python 2",
   "language": "python",
   "name": "python2"
  },
  "language_info": {
   "codemirror_mode": {
    "name": "ipython",
    "version": 2
   },
   "file_extension": ".py",
   "mimetype": "text/x-python",
   "name": "python",
   "nbconvert_exporter": "python",
   "pygments_lexer": "ipython2",
   "version": "2.7.6"
  }
 },
 "nbformat": 4,
 "nbformat_minor": 0
}
